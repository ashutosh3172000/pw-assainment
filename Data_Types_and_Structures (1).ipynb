{
  "nbformat": 4,
  "nbformat_minor": 0,
  "metadata": {
    "colab": {
      "provenance": []
    },
    "kernelspec": {
      "name": "python3",
      "display_name": "Python 3"
    },
    "language_info": {
      "name": "python"
    }
  },
  "cells": [
    {
      "cell_type": "markdown",
      "source": [
        "#Theory Questions"
      ],
      "metadata": {
        "id": "--YLMXRpUYhp"
      }
    },
    {
      "cell_type": "code",
      "source": [
        "#Q1. => What are data structures, and why are they important?\n",
        "'''\n",
        "Data structure are specialized formats for organizing, processing, retrieving, and storing data.\n",
        "they enable efficient access and manipulation of data they contain. The choice of data structure often\n",
        "impacts the performance of algorithms, so selectting the right data structure for a given task is crucial.\n",
        "\n",
        "importance of Data Structures ->\n",
        "    1)Efficiency -> Proper data structure ensure that program run efficiently\n",
        "                    optimize time complexity of operations like seaching, insertingm, deletion.\n",
        "    2)Scalability -> Enable data management of large amount of data effectively.\n",
        "    3)Organization -> Facilitate data management and organization.\n",
        "                      Simplify complex tasks and enhance code readability and maintenance.\n",
        "    4)Resource Management -> Help manage memory and processing resources efficently.\n",
        "                             Prevent wastage of resources by using appropriate data structuress for specific tasks.\n",
        "'''"
      ],
      "metadata": {
        "id": "NsEwHcEtUebP"
      },
      "execution_count": null,
      "outputs": []
    },
    {
      "cell_type": "code",
      "source": [
        "# Q2. =>  Explain the difference between mutable and immutable data types with examples?\n",
        "'''\n",
        "Mutable Data types -> Mutable data types are those allow you to modify their content after creation.\n",
        "This means you can change, add or remove elements within the data structure without needing to create a\n",
        "new instance.\n",
        "\n",
        "Immutable Data types -> Immutable data types, on the other hand, do not allow modification after creation.\n",
        "If you want to change the value, you need to create a new instance  with the updated value.\n",
        "'''\n",
        "# Example of mutable data types->\n",
        "my_dict = {'Ashu': 10,'Srujan':20}\n",
        "my_dict['Mayur'] = 90 # Add new key value pair\n",
        "print(my_dict)\n",
        "\n",
        "my_set = {1,3,5}\n",
        "my_set.add(7) # added new set element\n",
        "print(my_set)\n",
        "\n",
        "# Example of Immutable data types ->\n",
        "my_tuple = (1,2,3)\n",
        "my_tuple[2] = 0 # raise an error, which is TypeError so, tuple does not change.\n",
        "print(my_tuple)\n"
      ],
      "metadata": {
        "id": "9RqQU0akiTcD",
        "colab": {
          "base_uri": "https://localhost:8080/",
          "height": 228
        },
        "outputId": "02708114-efdf-489b-a9a1-74fb92cb4e6a"
      },
      "execution_count": 1,
      "outputs": [
        {
          "output_type": "stream",
          "name": "stdout",
          "text": [
            "{'Ashu': 10, 'Srujan': 20, 'Mayur': 90}\n",
            "{1, 3, 5, 7}\n"
          ]
        },
        {
          "output_type": "error",
          "ename": "TypeError",
          "evalue": "'tuple' object does not support item assignment",
          "traceback": [
            "\u001b[0;31m---------------------------------------------------------------------------\u001b[0m",
            "\u001b[0;31mTypeError\u001b[0m                                 Traceback (most recent call last)",
            "\u001b[0;32m/tmp/ipython-input-1-4002036952.py\u001b[0m in \u001b[0;36m<cell line: 0>\u001b[0;34m()\u001b[0m\n\u001b[1;32m     19\u001b[0m \u001b[0;31m# Example of Immutable data types ->\u001b[0m\u001b[0;34m\u001b[0m\u001b[0;34m\u001b[0m\u001b[0m\n\u001b[1;32m     20\u001b[0m \u001b[0mmy_taple\u001b[0m \u001b[0;34m=\u001b[0m \u001b[0;34m(\u001b[0m\u001b[0;36m1\u001b[0m\u001b[0;34m,\u001b[0m\u001b[0;36m2\u001b[0m\u001b[0;34m,\u001b[0m\u001b[0;36m3\u001b[0m\u001b[0;34m)\u001b[0m\u001b[0;34m\u001b[0m\u001b[0;34m\u001b[0m\u001b[0m\n\u001b[0;32m---> 21\u001b[0;31m \u001b[0mmy_taple\u001b[0m\u001b[0;34m[\u001b[0m\u001b[0;36m2\u001b[0m\u001b[0;34m]\u001b[0m \u001b[0;34m=\u001b[0m \u001b[0;36m0\u001b[0m \u001b[0;31m# raise a error, which is TypeError so, taple is not change.\u001b[0m\u001b[0;34m\u001b[0m\u001b[0;34m\u001b[0m\u001b[0m\n\u001b[0m\u001b[1;32m     22\u001b[0m \u001b[0mprint\u001b[0m\u001b[0;34m(\u001b[0m\u001b[0mmy_taple\u001b[0m\u001b[0;34m)\u001b[0m\u001b[0;34m\u001b[0m\u001b[0;34m\u001b[0m\u001b[0m\n",
            "\u001b[0;31mTypeError\u001b[0m: 'tuple' object does not support item assignment"
          ]
        }
      ]
    },
    {
      "cell_type": "code",
      "source": [
        "# Q3. => What are the main differences between lists and tuples in Python?\n",
        "'''\n",
        "Lists -> 1) Mutability: List are mutable, meaning you can change their content after they are created like add, remove or modify element.\n",
        "         2) Syntax: List are defined using square brackets [].\n",
        "         3) Methods: List have a variety of methods for modifying their content, like append(), extend(), pop().\n",
        "\n",
        "Tuple -> 1)Immutability: Tuples are immutable, meaning their content cannot be changed after they are created.\n",
        "         2)Syntax: Tuples are defined using parantheses ().\n",
        "         3)Methodes:Tupels have fewer methods than list, like count() and index().\n",
        "'''"
      ],
      "metadata": {
        "id": "KSFzXLRO2HlJ"
      },
      "execution_count": null,
      "outputs": []
    },
    {
      "cell_type": "code",
      "source": [
        "# Q4. =>  Describe how dictionaries store data?\n",
        "'''\n",
        "Dictionaries are implemented using a hash table structure, which allow for efficient storage and retrieval of data.\n",
        "\n",
        "1) Structure : dictionary store data as 'Key and Values pairs'. Each key is unique, and it maps to a corresponding value.\n",
        "2) Hashing : When a key is added to a dictionary, Python calculate a hash value for the key using a hash function.\n",
        "            This hash value is used to determine the index where the key-value pair will be stored in an internal array.\n",
        "3) Array Of Buckets : Internally, python maintains an array or a list of buckets. Each bucket can store multiple key-value pairs.\n",
        "                      The hash value determines which bucket a key-value pair will go into.\n",
        "4) Operation : when you add a key-value pair to a dictionary, python computes the hash of the key, finds the appropriate bucket,\n",
        "              and stores the pair. If the key already exists, it updates the value.\n",
        "'''"
      ],
      "metadata": {
        "id": "5lsuAApU4hwd"
      },
      "execution_count": null,
      "outputs": []
    },
    {
      "cell_type": "code",
      "source": [
        "# Q5. => Why might you use a set instead of a list in Python?\n",
        "'''\n",
        "1) Uniqueness: Sets inherently maintain uniqne elements. If you need a collection\n",
        "               that automatically eliminates duplicates, a set is the best choise\n",
        "2) Membership Testing: Sets provide faster membership testing compared to lists.\n",
        "                       Checking if an item is in a set typically has O(1) time\n",
        "                       complexity, whereas checking if an item is in a list has O(n) time complexity.\n",
        "3) Mathematical Set Operations: Sets support mathematical operation like union, intersection, difference, and symmetric difference.\n",
        "                                These operation are very efficient with sets.\n",
        "4) Immutability Counterpart: If you need an immutable set of unique items, python also provides the 'frozenset' type.\n",
        "'''"
      ],
      "metadata": {
        "id": "pCR0qOmC-H1v"
      },
      "execution_count": null,
      "outputs": []
    },
    {
      "cell_type": "code",
      "source": [
        "# Q6. => What is a string in Python, and how is it different from a list?\n",
        "'''\n",
        "A string in python is a sequence of characters. Strings are used to represent text and\n",
        "are defined by enclosing characters in single quotes (' ') or double quotes (\" \").\n",
        "\n",
        "Differences->\n",
        "1) Types of elements: String => consists of characters.\n",
        "                      Lists  => can hold a collection of items, which can be of different type i.e interger, string, floats.\n",
        "2) Mutability: String => immutable, meaning once a string is created, its elements cannot be changed.\n",
        "               Lists  => Mutable ,meaning you can change, add , remove elements.\n",
        "3) Syntax: String => Using quotes. i.e ( s = 'Ashish' )\n",
        "           Lists  => Into square brackets. i.e ( l = [1,3,'ashish',8.9])\n",
        "4) Operations: String => Common operations include concatenation, slicing, finding substrings etc.\n",
        "               Lists  => Common operations include appending, extending, inserting, slicing,etc.\n",
        "'''"
      ],
      "metadata": {
        "id": "qAISEwcsAmka"
      },
      "execution_count": null,
      "outputs": []
    },
    {
      "cell_type": "code",
      "source": [
        "# Q7. => How do tuples ensure data integrity in Python?\n",
        "'''\n",
        "1) Immutability: Once a tuple is created, it cannot be modified. This means that the elements within\n",
        "                 a tuple cannot be added, removed, or changed, ensuring that the data remains consistent and\n",
        "                 unchanged throughout the program. This is crucial for maintaining the integrity of the data when it should not be altered inadvertently.\n",
        "2) Hashability: Because tuple are immutable, they can be hashed and used as keys in dictionaries or elements in sets.\n",
        "                This ensures that keys remains constant and reliable, which is important for the imtegrity and performace of hash-based data structures.\n",
        "3) consistency in Shared Data: When tuples are used to share data between different parts of a program or between different programs,\n",
        "                               their immutability guarantees that the shared data remains consistent and unchanged.\n",
        "                               This is particularly useful in multi-threaded environments where data integrity is critical.\n",
        "4) Referential integrity: Tuples help maintain referential integrity because their immutability ensures that references to\n",
        "                          tuples always point to the same data. This can be particularly useful when tuples are used as keys in\n",
        "                          dictionaries or as elements in sets, where changing the referenced data would compromise the integrity of the data structure.\n",
        "'''"
      ],
      "metadata": {
        "id": "vUK0TzJyD_Dz"
      },
      "execution_count": null,
      "outputs": []
    },
    {
      "cell_type": "code",
      "source": [
        "# Q8. => What is a hash table, and how does it relate to dictionaries in Python?\n",
        "'''\n",
        "Hash Table :- A hash table, also known as a hash map, is a data structure that efficiently maps keys\n",
        "              to values using a hash function. Here's a breakdown of how it works:\n",
        "      1) Hash Function: This function takes an input (the key) and returns an index in an array (the bucket) where the corresponding value is stored.\n",
        "      2)Buckets: The array elements, called buckets, hold key-value pairs. Each bucket can contain multiple pairs if a collision occurs.\n",
        "      3)Collisions: When two keys hash to the same index, different methods like chaining (linked lists in buckets) or\n",
        "                    open addressing (finding the next empty slot) are used to handle collisions.\n",
        "\n",
        "Dictionaries in Python :- In python, dictionaries are implemented using hash maps, which allows them to efficiently store and retrieve data.\n",
        "\n",
        "    1) Key-Value Storage: Dictionary store data as key value pairs where each key is unique.\n",
        "    2) Hashing: When a key is added to a dictionary python computes its hash value using a\n",
        "                hash function and places the key value pair in the appropriate bucket.\n",
        "    3) Performance: Due to their underlying hash table implementation, dictionaries\n",
        "                    provide O(1) time complexity for most operations (insertion, deletion, and lookup).\n",
        "'''"
      ],
      "metadata": {
        "id": "g6w1QDpiGrYe"
      },
      "execution_count": null,
      "outputs": []
    },
    {
      "cell_type": "code",
      "source": [
        "# Q9. => Can lists contain different data types in Python?\n",
        "'''\n",
        "Yes, lists in python can contain elements of different data types.This flexibility is one of\n",
        "the reasons that's lists are so powerful and widely used. You can insert integer, string , float, other list, and even custom objects within a single list.\n",
        "'''\n",
        "# Example\n",
        "l = [1,2,'Ashu', 'Srujan',9.9,4+7j]\n",
        "for i in l:\n",
        "  print(i,end = ' ')\n",
        "print('\\n')\n",
        "l2 = [1,['ashu','srujan'],3.9,[True,False],[7+9j]]\n",
        "for j in l2:\n",
        "  print(j,end = ' ')"
      ],
      "metadata": {
        "id": "ZD-XJ4VzJvu5",
        "colab": {
          "base_uri": "https://localhost:8080/"
        },
        "outputId": "5ab0dc04-1612-4938-aaca-adb7dfdb6c61"
      },
      "execution_count": 2,
      "outputs": [
        {
          "output_type": "stream",
          "name": "stdout",
          "text": [
            "1 2 Ashu Srujan 9.9 (4+7j) \n",
            "\n",
            "1 ['ashu', 'srujan'] 3.9 [True, False] [(7+9j)] "
          ]
        }
      ]
    },
    {
      "cell_type": "code",
      "source": [
        "# Q10. => Explain why strings are immutable in Python?\n",
        "'''\n",
        "1) Memory Efficiency: Since strings are immutable, they can be stored in a way that\n",
        "                      allows them to be shared across different parts of a program without\n",
        "                      needing to be copied. This sharing reduces memory usage and can improve performance.\n",
        "2) Performance : Python can cache and reuse immutable objects like strings. For ex., small strings and\n",
        "                 integers are often cached internally by python, which can improve the performace of string operations.\n",
        "3) Security: Immutability ensures that strings remain unchanged after creation, which prevents accidental modifications\n",
        "             that could lead to bugs or security vulnerabilities. This is particularly important when strings are used as keys in dictionaries or elements in sets.\n",
        "4) Hashability: Immutable objects can be reliably hashed, allowing them to be used as keys in dictionaries and elements in sets.\n",
        "                Hash functions depend on the object's content remaining constant to compute the same hash value every time.\n",
        "'''\n",
        "# example\n",
        "s = \"Hello Ashutosh\"\n",
        "s[0] = w # it will show a TypeError that means string is immutable\n",
        "print(s)\n"
      ],
      "metadata": {
        "id": "GKclxzT8L77t",
        "colab": {
          "base_uri": "https://localhost:8080/",
          "height": 193
        },
        "outputId": "b32059ae-d5be-447c-e189-ced762daac83"
      },
      "execution_count": 3,
      "outputs": [
        {
          "output_type": "error",
          "ename": "NameError",
          "evalue": "name 'w' is not defined",
          "traceback": [
            "\u001b[0;31m---------------------------------------------------------------------------\u001b[0m",
            "\u001b[0;31mNameError\u001b[0m                                 Traceback (most recent call last)",
            "\u001b[0;32m/tmp/ipython-input-3-2377239713.py\u001b[0m in \u001b[0;36m<cell line: 0>\u001b[0;34m()\u001b[0m\n\u001b[1;32m     13\u001b[0m \u001b[0;31m# example\u001b[0m\u001b[0;34m\u001b[0m\u001b[0;34m\u001b[0m\u001b[0m\n\u001b[1;32m     14\u001b[0m \u001b[0ms\u001b[0m \u001b[0;34m=\u001b[0m \u001b[0;34m\"Hello Ashutosh\"\u001b[0m\u001b[0;34m\u001b[0m\u001b[0;34m\u001b[0m\u001b[0m\n\u001b[0;32m---> 15\u001b[0;31m \u001b[0ms\u001b[0m\u001b[0;34m[\u001b[0m\u001b[0;36m0\u001b[0m\u001b[0;34m]\u001b[0m \u001b[0;34m=\u001b[0m \u001b[0mw\u001b[0m \u001b[0;31m# it will show a TypeError that means string is immutable\u001b[0m\u001b[0;34m\u001b[0m\u001b[0;34m\u001b[0m\u001b[0m\n\u001b[0m\u001b[1;32m     16\u001b[0m \u001b[0mprint\u001b[0m\u001b[0;34m(\u001b[0m\u001b[0ms\u001b[0m\u001b[0;34m)\u001b[0m\u001b[0;34m\u001b[0m\u001b[0;34m\u001b[0m\u001b[0m\n",
            "\u001b[0;31mNameError\u001b[0m: name 'w' is not defined"
          ]
        }
      ]
    },
    {
      "cell_type": "code",
      "source": [
        "# Q11. => What advantages do dictionaries offer over lists for certain tasks?\n",
        "'''\n",
        "1) Fast Lookups : Dictionaries provide average O(1) time complexity for key lookups,\n",
        "                  making them much faster than lists, which have O(n) time complexity for searching elements\n",
        "2) Key-value pair Storage: Dictionaries store data as key-value pairs, which is useful for associating related data.\n",
        "3) Flexibility with Keys : You can use any immutable type as a key in a dictionary (strings, numbers, tuples), allowing for more flexibility compared to list indexing.\n",
        "4) Improved code readability: Using descriptive keys can make code more readable and self-documenting compared to numeric indices.\n",
        "'''\n",
        "my_dict = {'name': 'Ashu', 'age': 25}\n",
        "print(my_dict['name']) # Fast retrieval\n",
        "\n",
        "point = {(1,2): 'Ashu', (3,4): 'srujan'}\n",
        "print(point[(1,2)]) # Flexibility with keys"
      ],
      "metadata": {
        "id": "MKEUh-h4O0ho",
        "colab": {
          "base_uri": "https://localhost:8080/"
        },
        "outputId": "c74ba7a0-a9a2-430e-a564-d23d41a330f7"
      },
      "execution_count": 4,
      "outputs": [
        {
          "output_type": "stream",
          "name": "stdout",
          "text": [
            "Ashu\n",
            "Ashu\n"
          ]
        }
      ]
    },
    {
      "cell_type": "code",
      "source": [
        "# Q12. => Describe a scenario where using a tuple would be preferable over a list.\n",
        "'''\n",
        "1) Immutable Data - When you need to ensure that the data remains constant and unchangeable,\n",
        "                    using a tuple is ideal. For example, representing the coordinates of a point in a 2D space\n",
        "2) Dictionary Keys- If you need to use a sequence as a key in a dictionary, it must be immutable. Therefore, tuples are suitable for this purpose\n",
        "3) Structured Data - Tuples are often used to store heterogeneous data that are logically related, like the attributes of an object or record\n",
        "4) Performance Considerations - Tuples can be slightly more memory efficient and faster than lists due to their immutability, making them preferable when performance is a concern and the data doesn't need to be modified\n",
        "'''\n",
        "coordinates = (10, 20) # The coordinates should not change throughout the program\n",
        "print(coordinates)\n",
        "\n",
        "my_dict = {('x', 'y'): 100, ('a', 'b'): 200}\n",
        "print(my_dict[('x', 'y')])\n"
      ],
      "metadata": {
        "id": "M_ennPcIQ981",
        "colab": {
          "base_uri": "https://localhost:8080/"
        },
        "outputId": "48535b06-b823-4682-85e0-553579eeefd0"
      },
      "execution_count": 5,
      "outputs": [
        {
          "output_type": "stream",
          "name": "stdout",
          "text": [
            "(10, 20)\n",
            "100\n"
          ]
        }
      ]
    },
    {
      "cell_type": "code",
      "source": [
        "# Q13. => How do sets handle duplicate values in Python?\n",
        "'''\n",
        "Sets are designed to store unique elements only. When you add elements to a set, any duplicate values are automatically removed\n",
        "When you add elements to a set, Python checks if the element already exists in the set. If it does, the duplicate is ignored.\n",
        "\n",
        "'''\n",
        "s = { 1,2,3,4,4,4,2,2,3,3}\n",
        "print(s)\n",
        "s.add(1) # Using add()\n",
        "s.add(5)\n",
        "print(s)\n",
        "s.update([1,2,3,6,7]) # Using update()\n",
        "print(s) # it will ignore it."
      ],
      "metadata": {
        "id": "O240e0nmTHm3",
        "colab": {
          "base_uri": "https://localhost:8080/"
        },
        "outputId": "02d4cad8-785f-475f-aade-b126db71c1eb"
      },
      "execution_count": 6,
      "outputs": [
        {
          "output_type": "stream",
          "name": "stdout",
          "text": [
            "{1, 2, 3, 4}\n",
            "{1, 2, 3, 4, 5}\n",
            "{1, 2, 3, 4, 5, 6, 7}\n"
          ]
        }
      ]
    },
    {
      "cell_type": "code",
      "source": [
        "# Q14. => How does the “in” keyword work differently for lists and dictionaries?\n",
        "'''\n",
        "The in keyword is used to check for the presence of an element within a collection.\n",
        "While its usage is similar across lists and dictionaries in Python, the underlying mechanics and performance can differ\n",
        "\n",
        "Lists: In lists, the in keyword checks for the presence of a specific element.\n",
        "       The operation involves scanning each element in the list until the desired element is found or the end of the list is reached.\n",
        "Dictionaries: In dictionaries, the in keyword checks for the presence of a specific key (not the value). This is done using the hash table mechanism, making the operation very efficient.\n",
        "'''\n",
        "l = [1,2,3,4,5,6]\n",
        "print(8 in l)\n",
        "print(5 in l)\n",
        "\n",
        "my_dict = {'name': 'Ashu', 'age': 25}\n",
        "print('name' in my_dict)\n",
        "print('city' in my_dict)"
      ],
      "metadata": {
        "id": "GJF6fbpiXN2v",
        "colab": {
          "base_uri": "https://localhost:8080/"
        },
        "outputId": "654c2bf8-7b66-40be-c6ac-d75e5e406fae"
      },
      "execution_count": 7,
      "outputs": [
        {
          "output_type": "stream",
          "name": "stdout",
          "text": [
            "False\n",
            "True\n",
            "True\n",
            "False\n"
          ]
        }
      ]
    },
    {
      "cell_type": "code",
      "source": [
        "# Q15. => Can you modify the elements of a tuple? Explain why or why not?\n",
        "'''\n",
        "No, you cannot modify the elements of a tuple in python. This is because tuples are designed to be immutable,\n",
        "meaning that once they are created, their contents cannot be changed.\n",
        "\n",
        "Reasons why tuples are immutable:\n",
        "  1) Immutability by Design:-\n",
        "          * Data Integrity: Immutability ensures that the data in a tuple remains constant throughout its lifetime, preventing accidental modifications and ensuring data integrity.\n",
        "          * Hashability: Tuples can be used as keys in dictionaries and elements in sets because their immutability guarantees that their hash value will not change.\n",
        "  2) Performance and Memory Efficiency:-\n",
        "          * Immutable objects can be optimized by Python, such as being stored in a way that allows them to be shared across different parts of a program without the need to create multiple copies.\n",
        "            This can save memory and improve performance.\n",
        "  3) Use Cases:-\n",
        "          * Tuples are often used when you need a fixed collection of items or when the immutability is important for the program logic, such as in the case of function returns or configuration settings.\n",
        "'''\n",
        "t = (1,2,3,4,5,6,7)\n",
        "t[3] = 9 #This will raise a TypeError: 'tuple' object does not support item assignment"
      ],
      "metadata": {
        "id": "vYygP1KvY62k",
        "colab": {
          "base_uri": "https://localhost:8080/",
          "height": 176
        },
        "outputId": "e751eda8-2210-4c71-f754-7bf13ae26dc3"
      },
      "execution_count": 8,
      "outputs": [
        {
          "output_type": "error",
          "ename": "TypeError",
          "evalue": "'tuple' object does not support item assignment",
          "traceback": [
            "\u001b[0;31m---------------------------------------------------------------------------\u001b[0m",
            "\u001b[0;31mTypeError\u001b[0m                                 Traceback (most recent call last)",
            "\u001b[0;32m/tmp/ipython-input-8-3460841925.py\u001b[0m in \u001b[0;36m<cell line: 0>\u001b[0;34m()\u001b[0m\n\u001b[1;32m     15\u001b[0m '''\n\u001b[1;32m     16\u001b[0m \u001b[0mt\u001b[0m \u001b[0;34m=\u001b[0m \u001b[0;34m(\u001b[0m\u001b[0;36m1\u001b[0m\u001b[0;34m,\u001b[0m\u001b[0;36m2\u001b[0m\u001b[0;34m,\u001b[0m\u001b[0;36m3\u001b[0m\u001b[0;34m,\u001b[0m\u001b[0;36m4\u001b[0m\u001b[0;34m,\u001b[0m\u001b[0;36m5\u001b[0m\u001b[0;34m,\u001b[0m\u001b[0;36m6\u001b[0m\u001b[0;34m,\u001b[0m\u001b[0;36m7\u001b[0m\u001b[0;34m)\u001b[0m\u001b[0;34m\u001b[0m\u001b[0;34m\u001b[0m\u001b[0m\n\u001b[0;32m---> 17\u001b[0;31m \u001b[0mt\u001b[0m\u001b[0;34m[\u001b[0m\u001b[0;36m3\u001b[0m\u001b[0;34m]\u001b[0m \u001b[0;34m=\u001b[0m \u001b[0;36m9\u001b[0m \u001b[0;31m#This will raise a TypeError: 'tuple' object does not support item assignment\u001b[0m\u001b[0;34m\u001b[0m\u001b[0;34m\u001b[0m\u001b[0m\n\u001b[0m",
            "\u001b[0;31mTypeError\u001b[0m: 'tuple' object does not support item assignment"
          ]
        }
      ]
    },
    {
      "cell_type": "code",
      "source": [
        "# Q16. =>  What is a nested dictionary, and give an example of its use case?\n",
        "'''\n",
        "A nested dictionary in Python is a dictionary where the values are also dictionaries.\n",
        "This allows you to create complex data structures that can represent more detailed and hierarchical information\n",
        "Use Case:-\n",
        "      Nested dictionaries are useful when you need to store data that has multiple levels of hierarchy.\n",
        "      For example, consider the case of storing information about students and their respective grades in different subjects.\n",
        "'''\n",
        "Student_Grades = {\n",
        "    'Ashu':{\n",
        "        'Math': 95,\n",
        "        'Science': 90,\n",
        "        'English': 93\n",
        "    },\n",
        "    'Srujan':{\n",
        "        'Math': 88,\n",
        "        'Science': 90,\n",
        "        'English': 90\n",
        "    }\n",
        "}\n",
        "\n",
        "print(Student_Grades['Ashu']['Science'])\n",
        "print(Student_Grades['Srujan']['English'])"
      ],
      "metadata": {
        "id": "eiRK-gnQ4Xk7",
        "colab": {
          "base_uri": "https://localhost:8080/"
        },
        "outputId": "83594f9b-d426-4627-b5bf-6c7ea3a8e2ef"
      },
      "execution_count": 10,
      "outputs": [
        {
          "output_type": "stream",
          "name": "stdout",
          "text": [
            "90\n",
            "90\n"
          ]
        }
      ]
    },
    {
      "cell_type": "code",
      "source": [
        "# Q17. => Describe the time complexity of accessing elements in a dictionary?\n",
        "'''\n",
        "The time complexity of accessing elements in a Python dictionary is generally O(1), also known as constant time.\n",
        "This efficiency is achieved through the use of a hash table for storing key-value pairs\n",
        "\n",
        "Hash Table Mechanics:- When you add a key-value pair to a dictionary, Python computes a hash value for the key using a hash function.\n",
        "                      This hash value is used to determine the index (or bucket) where the key-value pair will be stored in the internal array.\n",
        "                      When you access a value using its key, Python computes the hash value of the key and directly goes to the corresponding bucket to retrieve the value.\n",
        "                      This direct access mechanism is what provides the O(1) average time complexity.\n",
        "Average Case:- In most cases, the time complexity for inserting, deleting, or looking up elements in a dictionary is O(1),\n",
        "               meaning it takes a constant amount of time regardless of the number of elements in the dictionary.\n",
        "Worst Case:- In the worst case, if many keys hash to the same bucket (due to hash collisions), the time complexity can degrade to O(n),\n",
        "             where n is the number of elements in the dictionary. However, Python's hash table implementation is designed to minimize collisions and ensure that this worst-case scenario is rare.\n",
        "'''\n",
        "d = {'a': 1,'b': 2, 'c':5}\n",
        "v = d['b']\n",
        "print(d)\n",
        "d['b'] = 90 # This operation is O(1) on average\n",
        "print(v)\n",
        "print(d)"
      ],
      "metadata": {
        "id": "AZUZ-kD06GR8",
        "colab": {
          "base_uri": "https://localhost:8080/"
        },
        "outputId": "c2463a16-9d76-4995-e88e-ec8bddb7d028"
      },
      "execution_count": 11,
      "outputs": [
        {
          "output_type": "stream",
          "name": "stdout",
          "text": [
            "{'a': 1, 'b': 2, 'c': 5}\n",
            "2\n",
            "{'a': 1, 'b': 90, 'c': 5}\n"
          ]
        }
      ]
    },
    {
      "cell_type": "code",
      "source": [
        "# Q18. =>  In what situations are lists preferred over dictionaries?\n",
        "'''\n",
        "1) Ordered Data: When the order of elements is important, lists are preferred because they maintain the order of insertion.\n",
        "2) Iteration: Lists are often more convenient for simple iteration tasks, especially when you just need to go through elements in a sequential manner.\n",
        "3) Homogeneous Data: When you have a collection of elements that are all of the same type, like a list of integers or strings, lists are a natural fit.\n",
        "4) Index-Based Access: When you need to access elements by their position or index, lists are ideal because they allow O(1) time complexity for index-based access.\n",
        "5) Stacks and Queues: Lists are convenient for implementing stacks (Last-In-First-Out) and queues (First-In-First-Out) due to their ability to append and pop elements efficiently.\n",
        "'''\n",
        "stack = []\n",
        "stack.append(1)\n",
        "stack.append(5)\n",
        "print(stack.pop()) # the last element is poped into the stack"
      ],
      "metadata": {
        "id": "Tq-3K3fz8Cq5",
        "colab": {
          "base_uri": "https://localhost:8080/"
        },
        "outputId": "24dc6b1e-4785-4fb2-e803-8e3a36234ce3"
      },
      "execution_count": 12,
      "outputs": [
        {
          "output_type": "stream",
          "name": "stdout",
          "text": [
            "5\n"
          ]
        }
      ]
    },
    {
      "cell_type": "code",
      "source": [
        "# Q19. =>  Why are dictionaries considered unordered, and how does that affect data retrieval?\n",
        "'''\n",
        "Dictionaries in Python are considered unordered collections because they do not maintain the order of their elements based on insertion.\n",
        "\n",
        "1. Hash Table Implementation:- Dictionaries are implemented using hash tables, which are designed for efficient key-value pair storage and retrieval.\n",
        "                               the position of each key-value pair in the underlying array is determined by the hash value of the key, not by the order of insertion.\n",
        "2. Data Retrieval:- Because dictionaries use hash tables, data retrieval by key is very efficient (average O(1) time complexity), regardless of the order.\n",
        "                    While iterating over a dictionary, the elements may appear in the order of insertion (in Python 3.7+), but this should not be relied upon for ordering purposes in older versions or different contexts.\n",
        "3. How It Affects Data Retrieval:-\n",
        "                  Efficiency: The primary benefit is the efficiency of key-based access. You can retrieve, add, or delete elements quickly, without concern for their order.\n",
        "                  No Guaranteed Order: In contexts where element order matters, a list or an ordered collection like collections.OrderedDict (prior to Python 3.7) should be used instead.\n",
        "'''\n",
        "l = [1,2,3,4]\n",
        "print(l[1]) # order matters\n",
        "\n",
        "d = {'b': 2, 'a': 1, 'c': 3}\n",
        "print(d['a']) # Efficient direct access"
      ],
      "metadata": {
        "id": "tN29GLGg9XsH"
      },
      "execution_count": null,
      "outputs": []
    },
    {
      "cell_type": "code",
      "source": [
        "# Q20. => Explain the difference between a list and a dictionary in terms of data retrieval.\n",
        "'''\n",
        "Lists =>\n",
        "        1) Sequential Access: Lists are ordered collections of items. Each element in a list is accessed by its index.\n",
        "                              The index is an integer that represents the position of the element in the list.\n",
        "        2) Index-Based Retrieval: Retrieving elements in a list requires knowing the index position of the element.\n",
        "        3) Time Complexity: Accessing an element by its index has an average time complexity of O(1),\n",
        "                            but searching for an element has a time complexity of O(n) because it might require checking each element.\n",
        "\n",
        "Dictionaries =>\n",
        "            1) Key-Based Access: Dictionaries are collections of key-value pairs.\n",
        "                                  Each element in a dictionary is accessed by its key, which can be of any immutable type (e.g., strings, numbers, tuples).\n",
        "            2) Key-Based Retrieval: Retrieving elements in a dictionary requires knowing the key associated with the value.\n",
        "            3) Time Complexity: Accessing an element by its key has an average time complexity of O(1)\n",
        "                                due to the hash table implementation, making it very efficient for lookups.\n",
        "'''\n",
        "list1 = [1,2,3,'Ashu']\n",
        "print(list1[3]) # index based retrieval\n",
        "\n",
        "Dict = {'Ashu': 40,'Srujan': 90, \"Mayur\": 99}\n",
        "print(Dict['Mayur']) # key based retrieval"
      ],
      "metadata": {
        "colab": {
          "base_uri": "https://localhost:8080/"
        },
        "id": "oHX2OEuo_dDW",
        "outputId": "c202f61c-b75c-413d-f200-eeeab4b37d77"
      },
      "execution_count": 13,
      "outputs": [
        {
          "output_type": "stream",
          "name": "stdout",
          "text": [
            "Ashu\n",
            "99\n"
          ]
        }
      ]
    },
    {
      "cell_type": "markdown",
      "source": [
        "# Practical Questions"
      ],
      "metadata": {
        "id": "-BMh_QtdBO4B"
      }
    },
    {
      "cell_type": "code",
      "source": [
        "# Q1. => Write a code to create a string with your name and print it.\n",
        "name = 'Ashutosh Tiwari'\n",
        "print(name)"
      ],
      "metadata": {
        "colab": {
          "base_uri": "https://localhost:8080/"
        },
        "id": "8PsKkA7ZBVAC",
        "outputId": "6c90a23a-7189-4b75-9692-3ff94a40cc45"
      },
      "execution_count": 14,
      "outputs": [
        {
          "output_type": "stream",
          "name": "stdout",
          "text": [
            "Ashutosh Tiwari\n"
          ]
        }
      ]
    },
    {
      "cell_type": "code",
      "source": [
        "# Q2. => Write a code to find the length of the string \"Hello World\".\n",
        "s = 'Hello World'\n",
        "print(len(s))"
      ],
      "metadata": {
        "colab": {
          "base_uri": "https://localhost:8080/"
        },
        "id": "PmYsJuSKBwYY",
        "outputId": "3bfe0885-5044-4bb3-c4b7-b8d156c616a6"
      },
      "execution_count": null,
      "outputs": [
        {
          "output_type": "stream",
          "name": "stdout",
          "text": [
            "11\n"
          ]
        }
      ]
    },
    {
      "cell_type": "code",
      "source": [
        "# Q3. => Write a code to slice the first 3 characters from the string \"Python Programming\".\n",
        "s = \"Python Programming\"\n",
        "print(s[:3]) # OutPut 'Pyt'"
      ],
      "metadata": {
        "id": "ywfQDZZDCMeP",
        "colab": {
          "base_uri": "https://localhost:8080/"
        },
        "outputId": "2630877b-ed70-465b-dd77-f22f8f8f5341"
      },
      "execution_count": 16,
      "outputs": [
        {
          "output_type": "stream",
          "name": "stdout",
          "text": [
            "Pyt\n"
          ]
        }
      ]
    },
    {
      "cell_type": "code",
      "source": [
        "# Q4. => Write a code to convert the string \"hello\" to uppercase.\n",
        "s = \"hello\"\n",
        "print(s.upper())"
      ],
      "metadata": {
        "colab": {
          "base_uri": "https://localhost:8080/"
        },
        "id": "d0VyFXe0YAZc",
        "outputId": "a6543dbe-ac9e-4dce-b430-4ba4de8a9fed"
      },
      "execution_count": null,
      "outputs": [
        {
          "output_type": "stream",
          "name": "stdout",
          "text": [
            "HELLO\n"
          ]
        }
      ]
    },
    {
      "cell_type": "code",
      "source": [
        "# Q5. => Write a code to replace the word \"apple\" with \"orange\" in the string \"I like apple\"?\n",
        "S = \"I like apple\"\n",
        "print(S.replace('apple','orange'))"
      ],
      "metadata": {
        "colab": {
          "base_uri": "https://localhost:8080/"
        },
        "id": "wNHWr5PMYlxB",
        "outputId": "4f0858c8-958d-4fd5-b1ef-8383441090a5"
      },
      "execution_count": null,
      "outputs": [
        {
          "output_type": "stream",
          "name": "stdout",
          "text": [
            "I like orange\n"
          ]
        }
      ]
    },
    {
      "cell_type": "code",
      "source": [
        "# Q6. => Write a code to create a list with numbers 1 to 5 and print it?\n",
        "l = [1,2,3,4,5]\n",
        "print(l)"
      ],
      "metadata": {
        "colab": {
          "base_uri": "https://localhost:8080/"
        },
        "id": "-hWCEy8MZTUp",
        "outputId": "8f328701-54f0-4869-ec63-f4b1e37618be"
      },
      "execution_count": null,
      "outputs": [
        {
          "output_type": "stream",
          "name": "stdout",
          "text": [
            "[1, 2, 3, 4, 5]\n"
          ]
        }
      ]
    },
    {
      "cell_type": "code",
      "source": [
        "# Q7. => Write a code to append the number 10 to the list [1, 2, 3, 4].\n",
        "p = [1,2,3,4]\n",
        "p.append(10)\n",
        "print(p)"
      ],
      "metadata": {
        "colab": {
          "base_uri": "https://localhost:8080/"
        },
        "id": "ka7G17nlZ5GA",
        "outputId": "b78cab01-f80e-4749-a75a-ed379a02817a"
      },
      "execution_count": null,
      "outputs": [
        {
          "output_type": "stream",
          "name": "stdout",
          "text": [
            "[1, 2, 3, 4, 10]\n"
          ]
        }
      ]
    },
    {
      "cell_type": "code",
      "source": [
        "# Q8. => Write a code to remove the number 3 from the list [1, 2, 3, 4, 5].\n",
        "l = [1,2,3,4,5]\n",
        "l.remove(3)\n",
        "print(l)"
      ],
      "metadata": {
        "colab": {
          "base_uri": "https://localhost:8080/"
        },
        "id": "CbEB32vYbtUf",
        "outputId": "b5ac5f06-5ed9-4aae-8e2b-31694f2c7a8f"
      },
      "execution_count": null,
      "outputs": [
        {
          "output_type": "stream",
          "name": "stdout",
          "text": [
            "[1, 2, 4, 5]\n"
          ]
        }
      ]
    },
    {
      "cell_type": "code",
      "source": [
        "# Q9. => Write a code to access the second element in the list ['a', 'b', 'c', 'd'].\n",
        "p = ['a', 'b', 'c', 'd']\n",
        "print(p[1])"
      ],
      "metadata": {
        "colab": {
          "base_uri": "https://localhost:8080/"
        },
        "id": "qe1d_USKcIhs",
        "outputId": "13b72563-2650-44fc-9770-c3ee5a4200d2"
      },
      "execution_count": null,
      "outputs": [
        {
          "output_type": "stream",
          "name": "stdout",
          "text": [
            "b\n"
          ]
        }
      ]
    },
    {
      "cell_type": "code",
      "source": [
        "# Q10. => Write a code to reverse the list [10, 20, 30, 40, 50].\n",
        "l = [10, 20, 30, 40, 50]\n",
        "print(l[::-1])"
      ],
      "metadata": {
        "colab": {
          "base_uri": "https://localhost:8080/"
        },
        "id": "hm37ln9cceeK",
        "outputId": "ea086d7a-9505-4dc7-c2d9-239c095686f8"
      },
      "execution_count": null,
      "outputs": [
        {
          "output_type": "stream",
          "name": "stdout",
          "text": [
            "[50, 40, 30, 20, 10]\n"
          ]
        }
      ]
    },
    {
      "cell_type": "code",
      "source": [
        "# Q11. => Write a code to create a tuple with the elements 100, 200, 300 and print it.\n",
        "t = (100,200,300)\n",
        "print(t)"
      ],
      "metadata": {
        "colab": {
          "base_uri": "https://localhost:8080/"
        },
        "id": "IqlSjxGmcyba",
        "outputId": "ca7c3d68-bc77-48ce-b246-5cc0095234bd"
      },
      "execution_count": 17,
      "outputs": [
        {
          "output_type": "stream",
          "name": "stdout",
          "text": [
            "(100, 200, 300)\n"
          ]
        }
      ]
    },
    {
      "cell_type": "code",
      "source": [
        "# Q12. => Write a code to access the secound to last element of the tuple (\"red\",\"green\",\"blue\",\"yellow\")\n",
        "t = (\"red\",\"green\",\"blue\",\"yellow\")\n",
        "print(t[-2])"
      ],
      "metadata": {
        "colab": {
          "base_uri": "https://localhost:8080/"
        },
        "id": "ovmmmLhpdD-q",
        "outputId": "8644f6d9-a195-434e-e90f-6fac5a4c2336"
      },
      "execution_count": 18,
      "outputs": [
        {
          "output_type": "stream",
          "name": "stdout",
          "text": [
            "blue\n"
          ]
        }
      ]
    },
    {
      "cell_type": "code",
      "source": [
        "# Q13. => Write a code to find the minimum number in the tuple (10,20,5,15).\n",
        "numbers = (10, 20, 5, 15)\n",
        "minimum = min(numbers)\n",
        "print(\"The minimum number is:\", minimum)"
      ],
      "metadata": {
        "colab": {
          "base_uri": "https://localhost:8080/"
        },
        "id": "3b3t1DWFe-wN",
        "outputId": "18735dff-cc3a-461d-c644-e84ec7b0c771"
      },
      "execution_count": 19,
      "outputs": [
        {
          "output_type": "stream",
          "name": "stdout",
          "text": [
            "The minimum number is: 5\n"
          ]
        }
      ]
    },
    {
      "cell_type": "code",
      "source": [
        "# Q14. => Write a code to find the index of the element \"cat\" in the tuple ('dog', 'cat', 'rabbit').\n",
        "t = ('dog', 'cat', 'rabbit')\n",
        "print(t.index('cat'))"
      ],
      "metadata": {
        "colab": {
          "base_uri": "https://localhost:8080/"
        },
        "id": "eM_H9mxafbhW",
        "outputId": "0dbec727-ce30-4054-9384-a934f327bbb8"
      },
      "execution_count": null,
      "outputs": [
        {
          "output_type": "stream",
          "name": "stdout",
          "text": [
            "1\n"
          ]
        }
      ]
    },
    {
      "cell_type": "code",
      "source": [
        "# Q15. =>  Write a code to create a tuple containing three different fruits and check if \"kiwi\" is in it.\n",
        "fruits = (\"apple\", \"banana\", \"orange\")\n",
        "\n",
        "if \"kiwi\" in fruits:\n",
        "    print(\"Kiwi is in the tuple.\")\n",
        "else:\n",
        "    print(\"Kiwi is not in the tuple.\")\n"
      ],
      "metadata": {
        "colab": {
          "base_uri": "https://localhost:8080/"
        },
        "id": "Z6iu3Kh3fvlJ",
        "outputId": "3f394ff9-37b2-4408-dea8-71e99c3c85dd"
      },
      "execution_count": 20,
      "outputs": [
        {
          "output_type": "stream",
          "name": "stdout",
          "text": [
            "Kiwi is not in the tuple.\n"
          ]
        }
      ]
    },
    {
      "cell_type": "code",
      "source": [
        "# Q16. => Write a code to create a set with the elements 'a','b','c' and print it.\n",
        "s = {'a','b','c'}\n",
        "print(s)"
      ],
      "metadata": {
        "colab": {
          "base_uri": "https://localhost:8080/"
        },
        "id": "xuUsuyFPgJ_-",
        "outputId": "801cc50b-b2f6-481b-8de2-f09dcb3ee1b4"
      },
      "execution_count": 21,
      "outputs": [
        {
          "output_type": "stream",
          "name": "stdout",
          "text": [
            "{'c', 'a', 'b'}\n"
          ]
        }
      ]
    },
    {
      "cell_type": "code",
      "source": [
        "# Q17. => Write a code to clear all element from the set {1,2,3,4,5}.\n",
        "S = {1,2,3,4,5}\n",
        "S.clear()\n",
        "print(S)"
      ],
      "metadata": {
        "colab": {
          "base_uri": "https://localhost:8080/"
        },
        "id": "6MZB-30OgeeG",
        "outputId": "d91c6b69-7e5f-4b09-8885-e32cb62ca563"
      },
      "execution_count": 22,
      "outputs": [
        {
          "output_type": "stream",
          "name": "stdout",
          "text": [
            "set()\n"
          ]
        }
      ]
    },
    {
      "cell_type": "code",
      "source": [
        "# Q18. => Write a code to remove the element 4 from the set{1,2,3,4}.\n",
        "s = {1,2,3,4}\n",
        "s.remove(4)\n",
        "s"
      ],
      "metadata": {
        "colab": {
          "base_uri": "https://localhost:8080/"
        },
        "id": "ygCXITI2g6Z0",
        "outputId": "6acd1a81-6c1f-4d86-e33f-5954566c2e83"
      },
      "execution_count": 25,
      "outputs": [
        {
          "output_type": "execute_result",
          "data": {
            "text/plain": [
              "{1, 2, 3}"
            ]
          },
          "metadata": {},
          "execution_count": 25
        }
      ]
    },
    {
      "cell_type": "code",
      "source": [
        "# Q19. => Write a code to find the union of two sets{1,2,3} and {2,3,4}.\n",
        "set1 = {1, 2, 3}\n",
        "set2 = {2, 3, 4}\n",
        "\n",
        "union_set = set1.union(set2)\n",
        "print(\"Union of the sets is:\", union_set)\n"
      ],
      "metadata": {
        "colab": {
          "base_uri": "https://localhost:8080/"
        },
        "id": "nqA-CTiqhdQZ",
        "outputId": "eab831e3-c53a-454c-db65-a048e50e6d31"
      },
      "execution_count": 26,
      "outputs": [
        {
          "output_type": "stream",
          "name": "stdout",
          "text": [
            "Union of the sets is: {1, 2, 3, 4}\n"
          ]
        }
      ]
    },
    {
      "cell_type": "code",
      "source": [
        "# Q20. => Write a code to find the intersection of two sets{1,2,3} and{2,3,4}.\n",
        "set1 = {1, 2, 3}\n",
        "set2 = {2, 3, 4}\n",
        "\n",
        "intersection_set = set1 & set2\n",
        "print(\"Intersection of the sets is:\", intersection_set)\n"
      ],
      "metadata": {
        "colab": {
          "base_uri": "https://localhost:8080/"
        },
        "id": "ghyt-UxchdAJ",
        "outputId": "2a992917-0ea8-43f0-90ea-52b3d3c2c9d1"
      },
      "execution_count": 27,
      "outputs": [
        {
          "output_type": "stream",
          "name": "stdout",
          "text": [
            "Intersection of the sets is: {2, 3}\n"
          ]
        }
      ]
    },
    {
      "cell_type": "code",
      "source": [
        "# Q21. => Write a code to create a dictionary with the keys \"name\",\"age\" and \"city\" and print it.\n",
        "my_dict = {\n",
        "    \"name\": \"Ashu\",\n",
        "    \"age\": 25,\n",
        "    \"city\": \"Burhanpur\"\n",
        "}\n",
        "\n",
        "print(my_dict)"
      ],
      "metadata": {
        "colab": {
          "base_uri": "https://localhost:8080/"
        },
        "id": "IX4ZIFt0hcxi",
        "outputId": "4050be9c-aeba-4a02-fb39-db88d7659bb3"
      },
      "execution_count": 28,
      "outputs": [
        {
          "output_type": "stream",
          "name": "stdout",
          "text": [
            "{'name': 'Ashu', 'age': 25, 'city': 'Burhanpur'}\n"
          ]
        }
      ]
    },
    {
      "cell_type": "code",
      "source": [
        "# Q22. =>  Write a code to add a new key-value pair \"country\":\"USA\" to the dictionary{\"name\":\"jhon\",\"age\":25}.\n",
        "person = {\"name\": \"jhon\", \"age\": 25}\n",
        "\n",
        "# Add new key-value pair\n",
        "person[\"country\"] = \"USA\"\n",
        "\n",
        "print(\"Updated dictionary:\", person)\n"
      ],
      "metadata": {
        "colab": {
          "base_uri": "https://localhost:8080/"
        },
        "id": "Xy3boLL_hciZ",
        "outputId": "bef8ae7f-4711-46b2-aed6-189a7f78f3f9"
      },
      "execution_count": 29,
      "outputs": [
        {
          "output_type": "stream",
          "name": "stdout",
          "text": [
            "Updated dictionary: {'name': 'jhon', 'age': 25, 'country': 'USA'}\n"
          ]
        }
      ]
    },
    {
      "cell_type": "code",
      "source": [
        "# Q23. => Write a code to access the value associated with the key \"name\" in the dictionary{\"name\":\"alice\",\"age\":30}.\n",
        "person = {\"name\": \"alice\", \"age\": 30}\n",
        "\n",
        "# Access the value associated with the key \"name\"\n",
        "name_value = person[\"name\"]\n",
        "\n",
        "print(\"The name is:\", name_value)\n"
      ],
      "metadata": {
        "colab": {
          "base_uri": "https://localhost:8080/"
        },
        "id": "zsLxxy5xhcT6",
        "outputId": "0b682fce-6be5-46c9-f67b-1d2a3bd8623a"
      },
      "execution_count": 30,
      "outputs": [
        {
          "output_type": "stream",
          "name": "stdout",
          "text": [
            "The name is: alice\n"
          ]
        }
      ]
    },
    {
      "cell_type": "code",
      "source": [
        "# Q24. => Write a code to remove the key \"age\" from the dictionary {'name': 'Bob', 'age': 22, 'city': 'New York'}.\n",
        "person = {'name': 'Bob', 'age': 22, 'city': 'New York'}\n",
        "\n",
        "# Remove the key \"age\"\n",
        "person.pop(\"age\")\n",
        "\n",
        "print(\"Updated dictionary:\", person)\n"
      ],
      "metadata": {
        "colab": {
          "base_uri": "https://localhost:8080/"
        },
        "id": "egUv2YI-ha1k",
        "outputId": "70788e65-716e-4e43-b336-38cfa68ee2da"
      },
      "execution_count": 31,
      "outputs": [
        {
          "output_type": "stream",
          "name": "stdout",
          "text": [
            "Updated dictionary: {'name': 'Bob', 'city': 'New York'}\n"
          ]
        }
      ]
    },
    {
      "cell_type": "code",
      "source": [
        "# Q25.=> Write a code to check if the key \"city\" exists in the dictionary {'name': 'Alice', 'city': 'Paris'}.\n",
        "person = {'name': 'Alice', 'city': 'Paris'}\n",
        "\n",
        "# Check if the key \"city\" exists\n",
        "if \"city\" in person:\n",
        "    print(\"The key 'city' exists in the dictionary.\")\n"
      ],
      "metadata": {
        "colab": {
          "base_uri": "https://localhost:8080/"
        },
        "id": "jRfi0qGDXach",
        "outputId": "a1e4e050-7bd9-4e97-a083-876f7e4883c7"
      },
      "execution_count": 32,
      "outputs": [
        {
          "output_type": "stream",
          "name": "stdout",
          "text": [
            "The key 'city' exists in the dictionary.\n"
          ]
        }
      ]
    },
    {
      "cell_type": "code",
      "source": [
        "# Q26.=> Write a code to create a list, a tuple, and a dictionary, and print them all.\n",
        "# Creating a list\n",
        "my_list = [1, 2, 3, 4, 5]\n",
        "\n",
        "# Creating a tuple\n",
        "my_tuple = ('apple', 'banana', 'cherry')\n",
        "\n",
        "# Creating a dictionary\n",
        "my_dict = {'name': 'Alice', 'age': 30, 'city': 'Paris'}\n",
        "\n",
        "# Printing all\n",
        "print(\"List:\", my_list)\n",
        "print(\"Tuple:\", my_tuple)\n",
        "print(\"Dictionary:\", my_dict)\n"
      ],
      "metadata": {
        "colab": {
          "base_uri": "https://localhost:8080/"
        },
        "id": "Qelvo3wzX_co",
        "outputId": "3afc7180-3f4a-468f-b961-e4c1e3eb4e8f"
      },
      "execution_count": 33,
      "outputs": [
        {
          "output_type": "stream",
          "name": "stdout",
          "text": [
            "List: [1, 2, 3, 4, 5]\n",
            "Tuple: ('apple', 'banana', 'cherry')\n",
            "Dictionary: {'name': 'Alice', 'age': 30, 'city': 'Paris'}\n"
          ]
        }
      ]
    },
    {
      "cell_type": "code",
      "source": [
        "# Q27.=> Write a code to create a list of 5 random numbers between 1 and 100, sort it in ascending order, and print the result.(replaced)\n",
        " # ?????\n",
        "\n"
      ],
      "metadata": {
        "id": "cPx7xAD6YSaw"
      },
      "execution_count": 36,
      "outputs": []
    },
    {
      "cell_type": "code",
      "source": [
        "# Q28.=> Write a code to create a list with strings and print the element at the third index.\n",
        "# Create a list of strings\n",
        "fruits = [\"apple\", \"banana\", \"cherry\", \"mango\", \"grapes\"]\n",
        "\n",
        "# Print the element at the third index\n",
        "print(\"Element at index 3:\", fruits[3])\n"
      ],
      "metadata": {
        "colab": {
          "base_uri": "https://localhost:8080/"
        },
        "id": "ewoMgjUgY0dp",
        "outputId": "d4437c28-17f7-4f66-c51c-30faba3c2ad8"
      },
      "execution_count": 37,
      "outputs": [
        {
          "output_type": "stream",
          "name": "stdout",
          "text": [
            "Element at index 3: mango\n"
          ]
        }
      ]
    },
    {
      "cell_type": "code",
      "source": [
        "# Q29.=> Write a code to combine two dictionaries into one and print the result.\n",
        "dict1 = {'a': 45, 'b': 28}\n",
        "dict2 = {'c': 98, 'd': 67}\n",
        "\n",
        "# Combine dictionaries\n",
        "combined_dict = dict1 | dict2\n",
        "\n",
        "print(\"Combined dictionary:\", combined_dict)\n"
      ],
      "metadata": {
        "colab": {
          "base_uri": "https://localhost:8080/"
        },
        "id": "xIZwUu_eZgFJ",
        "outputId": "ac4509c8-4d7d-44ef-835f-476c6343d048"
      },
      "execution_count": 38,
      "outputs": [
        {
          "output_type": "stream",
          "name": "stdout",
          "text": [
            "Combined dictionary: {'a': 45, 'b': 28, 'c': 98, 'd': 67}\n"
          ]
        }
      ]
    },
    {
      "cell_type": "code",
      "source": [
        "# Q30.=> Write a code to convert a list of strings into a set.\n",
        "# List of strings\n",
        "string_list = [\"apple\", \"banana\", \"apple\", \"cherry\", \"banana\"]\n",
        "\n",
        "# Convert list to set\n",
        "string_set = set(string_list)\n",
        "\n",
        "print(\"Set:\", string_set)\n"
      ],
      "metadata": {
        "colab": {
          "base_uri": "https://localhost:8080/"
        },
        "id": "_JWTCFL1Z8TB",
        "outputId": "16e9212a-7398-4645-86cc-633dad98b3c8"
      },
      "execution_count": 39,
      "outputs": [
        {
          "output_type": "stream",
          "name": "stdout",
          "text": [
            "Set: {'banana', 'apple', 'cherry'}\n"
          ]
        }
      ]
    },
    {
      "cell_type": "code",
      "source": [],
      "metadata": {
        "id": "44Iv9L_-aKWh"
      },
      "execution_count": null,
      "outputs": []
    }
  ]
}