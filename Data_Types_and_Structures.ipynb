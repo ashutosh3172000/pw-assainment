{
  "nbformat": 4,
  "nbformat_minor": 0,
  "metadata": {
    "colab": {
      "provenance": []
    },
    "kernelspec": {
      "name": "python3",
      "display_name": "Python 3"
    },
    "language_info": {
      "name": "python"
    }
  },
  "cells": [
    {
      "cell_type": "markdown",
      "source": [
        "#Theory Questions"
      ],
      "metadata": {
        "id": "--YLMXRpUYhp"
      }
    },
    {
      "cell_type": "code",
      "source": [
        "#Q1. => What are data structures, and why are they important?\n",
        "'''\n",
        "Data structure are specialized formats for organizing, processing, retrieving, and storing data.\n",
        "they enable efficient access and manipulation of data they contain. The choice of data structure often\n",
        "impacts the performance of algorithms, so selectting the right data structure for a given task is crucial.\n",
        "\n",
        "importance of Data Structures ->\n",
        "    1)Efficiency -> Proper data structure ensure that program run efficiently\n",
        "                    optimize time complexity of operations like seaching, insertingm, deletion.\n",
        "    2)Scalability -> Enable data management of large amount of data effectively.\n",
        "    3)Organization -> Facilitate data management and organization.\n",
        "                      Simplify complex tasks and enhance code readability and maintenance.\n",
        "    4)Resource Management -> Help manage memory and processing resources efficently.\n",
        "                             Prevent wastage of resources by using appropriate data structuress for specific tasks.\n",
        "'''"
      ],
      "metadata": {
        "id": "NsEwHcEtUebP"
      },
      "execution_count": null,
      "outputs": []
    },
    {
      "cell_type": "code",
      "source": [
        "# Q2. =>  Explain the difference between mutable and immutable data types with examples?\n",
        "'''\n",
        "Mutable Data types -> Mutable data types are those allow you to modify their content after creation.\n",
        "This means you can change, add or remove elements within the data structure without needing to create a\n",
        "new instance.\n",
        "\n",
        "Immutable Data types -> Immutable data types, on the other hand, do not allow modification after creation.\n",
        "If you want to change the value, you need to create a new instance  with the updated value.\n",
        "'''\n",
        "# Example of mutable data types->\n",
        "my_dict = {'Ashish': 10,'Ravi':20}\n",
        "my_dict['Loki'] = 90 # Add new key value pair\n",
        "print(my_dict)\n",
        "\n",
        "my_set = {1,3,5}\n",
        "my_set.add(7) # added new set element\n",
        "print(my_set)\n",
        "\n",
        "# Example of Immutable data types ->\n",
        "my_taple = (1,2,3)\n",
        "my_taple[2] = 0 # raise a error, which is TypeError so, taple is not change.\n",
        "print(my_taple)\n"
      ],
      "metadata": {
        "id": "9RqQU0akiTcD"
      },
      "execution_count": null,
      "outputs": []
    },
    {
      "cell_type": "code",
      "source": [
        "# Q3. => What are the main differences between lists and tuples in Python?\n",
        "'''\n",
        "Lists -> 1) Mutability: List are mutable, meaning you can change their content after they are created like add, remove or modify element.\n",
        "         2) Syntax: List are defined using square brackets [].\n",
        "         3) Methods: List have a variety of methods for modifying their content, like append(), extend(), pop().\n",
        "\n",
        "Tuple -> 1)Immutability: Tuples are immutable, meaning their content cannot be changed after they are created.\n",
        "         2)Syntax: Tuples are defined using parantheses ().\n",
        "         3)Methodes:Tupels have fewer methods than list, like count() and index().\n",
        "'''"
      ],
      "metadata": {
        "id": "KSFzXLRO2HlJ"
      },
      "execution_count": null,
      "outputs": []
    },
    {
      "cell_type": "code",
      "source": [
        "# Q4. =>  Describe how dictionaries store data?\n",
        "'''\n",
        "Dictionaries are implemented using a hash table structure, which allow for efficient storage and retrieval of data.\n",
        "\n",
        "1) Structure : dictionary store data as 'Key and Values pairs'. Each key is unique, and it maps to a corresponding value.\n",
        "2) Hashing : When a key is added to a dictionary, Python calculate a hash value for the key using a hash function.\n",
        "            This hash value is used to determine the index where the key-value pair will be stored in an internal array.\n",
        "3) Array Of Buckets : Internally, python maintains an array or a list of buckets. Each bucket can store multiple key-value pairs.\n",
        "                      The hash value determines which bucket a key-value pair will go into.\n",
        "4) Operation : when you add a key-value pair to a dictionary, python computes the hash of the key, finds the appropriate bucket,\n",
        "              and stores the pair. If the key already exists, it updates the value.\n",
        "'''"
      ],
      "metadata": {
        "id": "5lsuAApU4hwd"
      },
      "execution_count": null,
      "outputs": []
    },
    {
      "cell_type": "code",
      "source": [
        "# Q5. => Why might you use a set instead of a list in Python?\n",
        "'''\n",
        "1) Uniqueness: Sets inherently maintain uniqne elements. If you need a collection\n",
        "               that automatically eliminates duplicates, a set is the best choise\n",
        "2) Membership Testing: Sets provide faster membership testing compared to lists.\n",
        "                       Checking if an item is in a set typically has O(1) time\n",
        "                       complexity, whereas checking if an item is in a list has O(n) time complexity.\n",
        "3) Mathematical Set Operations: Sets support mathematical operation like union, intersection, difference, and symmetric difference.\n",
        "                                These operation are very efficient with sets.\n",
        "4) Immutability Counterpart: If you need an immutable set of unique items, python also provides the 'frozenset' type.\n",
        "'''"
      ],
      "metadata": {
        "id": "pCR0qOmC-H1v"
      },
      "execution_count": null,
      "outputs": []
    },
    {
      "cell_type": "code",
      "source": [
        "# Q6. => What is a string in Python, and how is it different from a list?\n",
        "'''\n",
        "A string in python is a sequence of characters. Strings are used to represent text and\n",
        "are defined by enclosing characters in single quotes (' ') or double quotes (\" \").\n",
        "\n",
        "Differences->\n",
        "1) Types of elements: String => consists of characters.\n",
        "                      Lists  => can hold a collection of items, which can be of different type i.e interger, string, floats.\n",
        "2) Mutability: String => immutable, meaning once a string is created, its elements cannot be changed.\n",
        "               Lists  => Mutable ,meaning you can change, add , remove elements.\n",
        "3) Syntax: String => Using quotes. i.e ( s = 'Ashish' )\n",
        "           Lists  => Into square brackets. i.e ( l = [1,3,'ashish',8.9])\n",
        "4) Operations: String => Common operations include concatenation, slicing, finding substrings etc.\n",
        "               Lists  => Common operations include appending, extending, inserting, slicing,etc.\n",
        "'''"
      ],
      "metadata": {
        "id": "qAISEwcsAmka"
      },
      "execution_count": null,
      "outputs": []
    },
    {
      "cell_type": "code",
      "source": [
        "# Q7. => How do tuples ensure data integrity in Python?\n",
        "'''\n",
        "1) Immutability: Once a tuple is created, it cannot be modified. This means that the elements within\n",
        "                 a tuple cannot be added, removed, or changed, ensuring that the data remains consistent and\n",
        "                 unchanged throughout the program. This is crucial for maintaining the integrity of the data when it should not be altered inadvertently.\n",
        "2) Hashability: Because tuple are immutable, they can be hashed and used as keys in dictionaries or elements in sets.\n",
        "                This ensures that keys remains constant and reliable, which is important for the imtegrity and performace of hash-based data structures.\n",
        "3) consistency in Shared Data: When tuples are used to share data between different parts of a program or between different programs,\n",
        "                               their immutability guarantees that the shared data remains consistent and unchanged.\n",
        "                               This is particularly useful in multi-threaded environments where data integrity is critical.\n",
        "4) Referential integrity: Tuples help maintain referential integrity because their immutability ensures that references to\n",
        "                          tuples always point to the same data. This can be particularly useful when tuples are used as keys in\n",
        "                          dictionaries or as elements in sets, where changing the referenced data would compromise the integrity of the data structure.\n",
        "'''"
      ],
      "metadata": {
        "id": "vUK0TzJyD_Dz"
      },
      "execution_count": null,
      "outputs": []
    },
    {
      "cell_type": "code",
      "source": [
        "# Q8. => What is a hash table, and how does it relate to dictionaries in Python?\n",
        "'''\n",
        "Hash Table :- A hash table, also known as a hash map, is a data structure that efficiently maps keys\n",
        "              to values using a hash function. Here's a breakdown of how it works:\n",
        "      1) Hash Function: This function takes an input (the key) and returns an index in an array (the bucket) where the corresponding value is stored.\n",
        "      2)Buckets: The array elements, called buckets, hold key-value pairs. Each bucket can contain multiple pairs if a collision occurs.\n",
        "      3)Collisions: When two keys hash to the same index, different methods like chaining (linked lists in buckets) or\n",
        "                    open addressing (finding the next empty slot) are used to handle collisions.\n",
        "\n",
        "Dictionaries in Python :- In python, dictionaries are implemented using hash maps, which allows them to efficiently store and retrieve data.\n",
        "\n",
        "    1) Key-Value Storage: Dictionary store data as key value pairs where each key is unique.\n",
        "    2) Hashing: When a key is added to a dictionary python computes its hash value using a\n",
        "                hash function and places the key value pair in the appropriate bucket.\n",
        "    3) Performance: Due to their underlying hash table implementation, dictionaries\n",
        "                    provide O(1) time complexity for most operations (insertion, deletion, and lookup).\n",
        "'''"
      ],
      "metadata": {
        "id": "g6w1QDpiGrYe"
      },
      "execution_count": null,
      "outputs": []
    },
    {
      "cell_type": "code",
      "source": [
        "# Q9. => Can lists contain different data types in Python?\n",
        "'''\n",
        "Yes, lists in python can contain elements of different data types.This flexibility is one of\n",
        "the reasons that's lists are so powerful and widely used. You can insert integer, string , float, other list, and even custom objects within a single list.\n",
        "'''\n",
        "# Example\n",
        "l = [1,2,'Ashish', 'saini',9.9,4+7j]\n",
        "for i in l:\n",
        "  print(i,end = ' ')\n",
        "print('\\n')\n",
        "l2 = [1,['ashish','saini'],3.9,[True,False],[7+9j]]\n",
        "for j in l2:\n",
        "  print(j,end = ' ')"
      ],
      "metadata": {
        "id": "ZD-XJ4VzJvu5"
      },
      "execution_count": null,
      "outputs": []
    },
    {
      "cell_type": "code",
      "source": [
        "# Q10. => Explain why strings are immutable in Python?\n",
        "'''\n",
        "1) Memory Efficiency: Since strings are immutable, they can be stored in a way that\n",
        "                      allows them to be shared across different parts of a program without\n",
        "                      needing to be copied. This sharing reduces memory usage and can improve performance.\n",
        "2) Performance : Python can cache and reuse immutable objects like strings. For ex., small strings and\n",
        "                 integers are often cached internally by python, which can improve the performace of string operations.\n",
        "3) Security: Immutability ensures that strings remain unchanged after creation, which prevents accidental modifications\n",
        "             that could lead to bugs or security vulnerabilities. This is particularly important when strings are used as keys in dictionaries or elements in sets.\n",
        "4) Hashability: Immutable objects can be reliably hashed, allowing them to be used as keys in dictionaries and elements in sets.\n",
        "                Hash functions depend on the object's content remaining constant to compute the same hash value every time.\n",
        "'''\n",
        "# example\n",
        "s = \"Hello Ashish\"\n",
        "s[0] = w # it is show the TypeError that means string is immutable\n",
        "print(s)\n"
      ],
      "metadata": {
        "id": "GKclxzT8L77t"
      },
      "execution_count": null,
      "outputs": []
    },
    {
      "cell_type": "code",
      "source": [
        "# Q11. => What advantages do dictionaries offer over lists for certain tasks?\n",
        "'''\n",
        "1) Fast Lookups : Dictionaries provide average O(1) time complexity for key lookups,\n",
        "                  making them much faster than lists, which have O(n) time complexity for searching elements\n",
        "2) Key-value pair Storage: Dictionaries store data as key-value pairs, which is useful for associating related data.\n",
        "3) Flexibility with Keys : You can use any immutable type as a key in a dictionary (strings, numbers, tuples), allowing for more flexibility compared to list indexing.\n",
        "4) Improved code readability: Using descriptive keys can make code more readable and self-documenting compared to numeric indices.\n",
        "'''\n",
        "my_dict = {'name': 'Alice', 'age': 25}\n",
        "print(my_dict['name']) # Fast retrieval\n",
        "\n",
        "point = {(1,2): 'Ashish', (3,4): 'saini'}\n",
        "print(point[(1,2)]) # Flexibility with keys"
      ],
      "metadata": {
        "id": "MKEUh-h4O0ho"
      },
      "execution_count": null,
      "outputs": []
    },
    {
      "cell_type": "code",
      "source": [
        "# Q12. => Describe a scenario where using a tuple would be preferable over a list.\n",
        "'''\n",
        "1) Immutable Data - When you need to ensure that the data remains constant and unchangeable,\n",
        "                    using a tuple is ideal. For example, representing the coordinates of a point in a 2D space\n",
        "2) Dictionary Keys- If you need to use a sequence as a key in a dictionary, it must be immutable. Therefore, tuples are suitable for this purpose\n",
        "3) Structured Data - Tuples are often used to store heterogeneous data that are logically related, like the attributes of an object or record\n",
        "4) Performance Considerations - Tuples can be slightly more memory efficient and faster than lists due to their immutability, making them preferable when performance is a concern and the data doesn't need to be modified\n",
        "'''\n",
        "coordinates = (10, 20) # The coordinates should not change throughout the program\n",
        "print(coordinates)\n",
        "\n",
        "my_dict = {('x', 'y'): 100, ('a', 'b'): 200}\n",
        "print(my_dict[('x', 'y')])\n"
      ],
      "metadata": {
        "id": "M_ennPcIQ981"
      },
      "execution_count": null,
      "outputs": []
    },
    {
      "cell_type": "code",
      "source": [
        "# Q13. => How do sets handle duplicate values in Python?\n",
        "'''\n",
        "Sets are designed to store unique elements only. When you add elements to a set, any duplicate values are automatically removed\n",
        "When you add elements to a set, Python checks if the element already exists in the set. If it does, the duplicate is ignored.\n",
        "\n",
        "'''\n",
        "my_s = { 1,2,3,4,4,4,2,2,3,3}\n",
        "print(my_s)\n",
        "my_s.add(1) # Using add()\n",
        "my_s.add(5)\n",
        "print(my_s)\n",
        "my_s.update([1,2,3,6,7]) # Using update()\n",
        "print(my_s) # it was ignor it."
      ],
      "metadata": {
        "id": "O240e0nmTHm3"
      },
      "execution_count": null,
      "outputs": []
    },
    {
      "cell_type": "code",
      "source": [
        "# Q14. => How does the “in” keyword work differently for lists and dictionaries?\n",
        "'''\n",
        "The in keyword is used to check for the presence of an element within a collection.\n",
        "While its usage is similar across lists and dictionaries in Python, the underlying mechanics and performance can differ\n",
        "\n",
        "Lists: In lists, the in keyword checks for the presence of a specific element.\n",
        "       The operation involves scanning each element in the list until the desired element is found or the end of the list is reached.\n",
        "Dictionaries: In dictionaries, the in keyword checks for the presence of a specific key (not the value). This is done using the hash table mechanism, making the operation very efficient.\n",
        "'''\n",
        "l = [1,2,3,4,5,6]\n",
        "print(8 in l)\n",
        "print(5 in l)\n",
        "\n",
        "my_dict = {'name': 'Ashish', 'age': 80}\n",
        "print('name' in my_dict)\n",
        "print('city' in my_dict)"
      ],
      "metadata": {
        "id": "GJF6fbpiXN2v"
      },
      "execution_count": null,
      "outputs": []
    },
    {
      "cell_type": "code",
      "source": [
        "# Q15. => Can you modify the elements of a tuple? Explain why or why not?\n",
        "'''\n",
        "No, you cannot modify the elements of a tuple in python. This is because tuples are designed to be immutable,\n",
        "meaning that once they are created, their contents cannot be changed.\n",
        "\n",
        "Reasons why tuples are immutable:\n",
        "  1) Immutability by Design:-\n",
        "          * Data Integrity: Immutability ensures that the data in a tuple remains constant throughout its lifetime, preventing accidental modifications and ensuring data integrity.\n",
        "          * Hashability: Tuples can be used as keys in dictionaries and elements in sets because their immutability guarantees that their hash value will not change.\n",
        "  2) Performance and Memory Efficiency:-\n",
        "          * Immutable objects can be optimized by Python, such as being stored in a way that allows them to be shared across different parts of a program without the need to create multiple copies.\n",
        "            This can save memory and improve performance.\n",
        "  3) Use Cases:-\n",
        "          * Tuples are often used when you need a fixed collection of items or when the immutability is important for the program logic, such as in the case of function returns or configuration settings.\n",
        "'''\n",
        "t = (1,2,3,4,5,6,7)\n",
        "t[3] = 9 #This will raise a TypeError: 'tuple' object does not support item assignment"
      ],
      "metadata": {
        "id": "vYygP1KvY62k"
      },
      "execution_count": null,
      "outputs": []
    },
    {
      "cell_type": "code",
      "source": [
        "# Q16. =>  What is a nested dictionary, and give an example of its use case?\n",
        "'''\n",
        "A nested dictionary in Python is a dictionary where the values are also dictionaries.\n",
        "This allows you to create complex data structures that can represent more detailed and hierarchical information\n",
        "Use Case:-\n",
        "      Nested dictionaries are useful when you need to store data that has multiple levels of hierarchy.\n",
        "      For example, consider the case of storing information about students and their respective grades in different subjects.\n",
        "'''\n",
        "Student_Grades = {\n",
        "    'Ashish':{\n",
        "        'Math': 90,\n",
        "        'Science': 99,\n",
        "        'English': 80\n",
        "    },\n",
        "    'Ravi':{\n",
        "        'Math': 88,\n",
        "        'Science': 90,\n",
        "        'English': 90\n",
        "    }\n",
        "}\n",
        "\n",
        "print(Student_Grades['Ashish']['Science'])\n",
        "print(Student_Grades['Ravi']['English'])"
      ],
      "metadata": {
        "id": "eiRK-gnQ4Xk7"
      },
      "execution_count": null,
      "outputs": []
    },
    {
      "cell_type": "code",
      "source": [
        "# Q17. => Describe the time complexity of accessing elements in a dictionary?\n",
        "'''\n",
        "The time complexity of accessing elements in a Python dictionary is generally O(1), also known as constant time.\n",
        "This efficiency is achieved through the use of a hash table for storing key-value pairs\n",
        "\n",
        "Hash Table Mechanics:- When you add a key-value pair to a dictionary, Python computes a hash value for the key using a hash function.\n",
        "                      This hash value is used to determine the index (or bucket) where the key-value pair will be stored in the internal array.\n",
        "                      When you access a value using its key, Python computes the hash value of the key and directly goes to the corresponding bucket to retrieve the value.\n",
        "                      This direct access mechanism is what provides the O(1) average time complexity.\n",
        "Average Case:- In most cases, the time complexity for inserting, deleting, or looking up elements in a dictionary is O(1),\n",
        "               meaning it takes a constant amount of time regardless of the number of elements in the dictionary.\n",
        "Worst Case:- In the worst case, if many keys hash to the same bucket (due to hash collisions), the time complexity can degrade to O(n),\n",
        "             where n is the number of elements in the dictionary. However, Python's hash table implementation is designed to minimize collisions and ensure that this worst-case scenario is rare.\n",
        "'''\n",
        "d = {'a': 1,'b': 2, 'c':5}\n",
        "v = d['b']\n",
        "print(d)\n",
        "d['b'] = 90 # This operation is O(1) on average\n",
        "print(v)\n",
        "print(d)"
      ],
      "metadata": {
        "id": "AZUZ-kD06GR8"
      },
      "execution_count": null,
      "outputs": []
    },
    {
      "cell_type": "code",
      "source": [
        "# Q18. =>  In what situations are lists preferred over dictionaries?\n",
        "'''\n",
        "1) Ordered Data: When the order of elements is important, lists are preferred because they maintain the order of insertion.\n",
        "2) Iteration: Lists are often more convenient for simple iteration tasks, especially when you just need to go through elements in a sequential manner.\n",
        "3) Homogeneous Data: When you have a collection of elements that are all of the same type, like a list of integers or strings, lists are a natural fit.\n",
        "4) Index-Based Access: When you need to access elements by their position or index, lists are ideal because they allow O(1) time complexity for index-based access.\n",
        "5) Stacks and Queues: Lists are convenient for implementing stacks (Last-In-First-Out) and queues (First-In-First-Out) due to their ability to append and pop elements efficiently.\n",
        "'''\n",
        "stack = []\n",
        "stack.append(1)\n",
        "stack.append(5)\n",
        "print(stack.pop()) # the last element is poped into the stack"
      ],
      "metadata": {
        "id": "Tq-3K3fz8Cq5"
      },
      "execution_count": null,
      "outputs": []
    },
    {
      "cell_type": "code",
      "source": [
        "# Q19. =>  Why are dictionaries considered unordered, and how does that affect data retrieval?\n",
        "'''\n",
        "Dictionaries in Python are considered unordered collections because they do not maintain the order of their elements based on insertion.\n",
        "\n",
        "1. Hash Table Implementation:- Dictionaries are implemented using hash tables, which are designed for efficient key-value pair storage and retrieval.\n",
        "                               the position of each key-value pair in the underlying array is determined by the hash value of the key, not by the order of insertion.\n",
        "2. Data Retrieval:- Because dictionaries use hash tables, data retrieval by key is very efficient (average O(1) time complexity), regardless of the order.\n",
        "                    While iterating over a dictionary, the elements may appear in the order of insertion (in Python 3.7+), but this should not be relied upon for ordering purposes in older versions or different contexts.\n",
        "3. How It Affects Data Retrieval:-\n",
        "                  Efficiency: The primary benefit is the efficiency of key-based access. You can retrieve, add, or delete elements quickly, without concern for their order.\n",
        "                  No Guaranteed Order: In contexts where element order matters, a list or an ordered collection like collections.OrderedDict (prior to Python 3.7) should be used instead.\n",
        "'''\n",
        "l = [1,2,3,4]\n",
        "print(l[1]) # order matters\n",
        "\n",
        "d = {'b': 2, 'a': 1, 'c': 3}\n",
        "print(d['a']) # Efficient direct access"
      ],
      "metadata": {
        "id": "tN29GLGg9XsH"
      },
      "execution_count": null,
      "outputs": []
    },
    {
      "cell_type": "code",
      "source": [
        "# Q20. => Explain the difference between a list and a dictionary in terms of data retrieval.\n",
        "'''\n",
        "Lists =>\n",
        "        1) Sequential Access: Lists are ordered collections of items. Each element in a list is accessed by its index.\n",
        "                              The index is an integer that represents the position of the element in the list.\n",
        "        2) Index-Based Retrieval: Retrieving elements in a list requires knowing the index position of the element.\n",
        "        3) Time Complexity: Accessing an element by its index has an average time complexity of O(1),\n",
        "                            but searching for an element has a time complexity of O(n) because it might require checking each element.\n",
        "\n",
        "Dictionaries =>\n",
        "            1) Key-Based Access: Dictionaries are collections of key-value pairs.\n",
        "                                  Each element in a dictionary is accessed by its key, which can be of any immutable type (e.g., strings, numbers, tuples).\n",
        "            2) Key-Based Retrieval: Retrieving elements in a dictionary requires knowing the key associated with the value.\n",
        "            3) Time Complexity: Accessing an element by its key has an average time complexity of O(1)\n",
        "                                due to the hash table implementation, making it very efficient for lookups.\n",
        "'''\n",
        "list1 = [1,2,3,'Ashish']\n",
        "print(list1[3]) # index based retrieval\n",
        "\n",
        "Dict = {'Ashish': 40,'Ravi': 90, \"Loki\": 99}\n",
        "print(Dict['Loki']) # key based retrieval"
      ],
      "metadata": {
        "colab": {
          "base_uri": "https://localhost:8080/"
        },
        "id": "oHX2OEuo_dDW",
        "outputId": "b5618a78-3bae-4952-c0e0-be159b9708f7"
      },
      "execution_count": null,
      "outputs": [
        {
          "output_type": "stream",
          "name": "stdout",
          "text": [
            "Ashish\n",
            "99\n"
          ]
        }
      ]
    },
    {
      "cell_type": "markdown",
      "source": [
        "# Practical Questions"
      ],
      "metadata": {
        "id": "-BMh_QtdBO4B"
      }
    },
    {
      "cell_type": "code",
      "source": [
        "# Q1. => Write a code to create a string with your name and print it.\n",
        "name = 'Ashish Saini'\n",
        "print(name)"
      ],
      "metadata": {
        "colab": {
          "base_uri": "https://localhost:8080/"
        },
        "id": "8PsKkA7ZBVAC",
        "outputId": "0d1fb63b-4fac-434e-a800-f1cf1d9bc509"
      },
      "execution_count": null,
      "outputs": [
        {
          "output_type": "stream",
          "name": "stdout",
          "text": [
            "Ashish Saini\n"
          ]
        }
      ]
    },
    {
      "cell_type": "code",
      "source": [
        "# Q2. => Write a code to find the length of the string \"Hello World\".\n",
        "s = 'Hello World'\n",
        "print(len(s))"
      ],
      "metadata": {
        "colab": {
          "base_uri": "https://localhost:8080/"
        },
        "id": "PmYsJuSKBwYY",
        "outputId": "3bfe0885-5044-4bb3-c4b7-b8d156c616a6"
      },
      "execution_count": null,
      "outputs": [
        {
          "output_type": "stream",
          "name": "stdout",
          "text": [
            "11\n"
          ]
        }
      ]
    },
    {
      "cell_type": "code",
      "source": [
        "# Q3. => Write a code to slice the first 3 characters from the string \"Python Programming\".\n",
        "s = \"Python Programming\"\n",
        "print(s[:3]) # OutPut 'Pyt'\n",
        "#print(s[3:])"
      ],
      "metadata": {
        "id": "ywfQDZZDCMeP",
        "colab": {
          "base_uri": "https://localhost:8080/"
        },
        "outputId": "1d58df56-e3b6-4c14-ff84-077e78301075"
      },
      "execution_count": 1,
      "outputs": [
        {
          "output_type": "stream",
          "name": "stdout",
          "text": [
            "Pyt\n",
            "hon Programming\n"
          ]
        }
      ]
    },
    {
      "cell_type": "code",
      "source": [
        "# Q4. => Write a code to convert the string \"hello\" to uppercase.\n",
        "s = \"hello\"\n",
        "print(s.upper())"
      ],
      "metadata": {
        "colab": {
          "base_uri": "https://localhost:8080/"
        },
        "id": "d0VyFXe0YAZc",
        "outputId": "a6543dbe-ac9e-4dce-b430-4ba4de8a9fed"
      },
      "execution_count": 2,
      "outputs": [
        {
          "output_type": "stream",
          "name": "stdout",
          "text": [
            "HELLO\n"
          ]
        }
      ]
    },
    {
      "cell_type": "code",
      "source": [
        "# Q5. => Write a code to replace the word \"apple\" with \"orange\" in the string \"I like apple\"?\n",
        "S = \"I like apple\"\n",
        "print(S.replace('apple','orange'))"
      ],
      "metadata": {
        "colab": {
          "base_uri": "https://localhost:8080/"
        },
        "id": "wNHWr5PMYlxB",
        "outputId": "4f0858c8-958d-4fd5-b1ef-8383441090a5"
      },
      "execution_count": 5,
      "outputs": [
        {
          "output_type": "stream",
          "name": "stdout",
          "text": [
            "I like orange\n"
          ]
        }
      ]
    },
    {
      "cell_type": "code",
      "source": [
        "# Q6. => Write a code to create a list with numbers 1 to 5 and print it?\n",
        "l = [1,2,3,4,5]\n",
        "print(l)"
      ],
      "metadata": {
        "colab": {
          "base_uri": "https://localhost:8080/"
        },
        "id": "-hWCEy8MZTUp",
        "outputId": "8f328701-54f0-4869-ec63-f4b1e37618be"
      },
      "execution_count": 7,
      "outputs": [
        {
          "output_type": "stream",
          "name": "stdout",
          "text": [
            "[1, 2, 3, 4, 5]\n"
          ]
        }
      ]
    },
    {
      "cell_type": "code",
      "source": [
        "# Q7. => Write a code to append the number 10 to the list [1, 2, 3, 4].\n",
        "p = [1,2,3,4]\n",
        "p.append(10)\n",
        "print(p)"
      ],
      "metadata": {
        "colab": {
          "base_uri": "https://localhost:8080/"
        },
        "id": "ka7G17nlZ5GA",
        "outputId": "b78cab01-f80e-4749-a75a-ed379a02817a"
      },
      "execution_count": 20,
      "outputs": [
        {
          "output_type": "stream",
          "name": "stdout",
          "text": [
            "[1, 2, 3, 4, 10]\n"
          ]
        }
      ]
    },
    {
      "cell_type": "code",
      "source": [
        "# Q8. => Write a code to remove the number 3 from the list [1, 2, 3, 4, 5].\n",
        "l = [1,2,3,4,5]\n",
        "l.remove(3)\n",
        "print(l)"
      ],
      "metadata": {
        "colab": {
          "base_uri": "https://localhost:8080/"
        },
        "id": "CbEB32vYbtUf",
        "outputId": "b5ac5f06-5ed9-4aae-8e2b-31694f2c7a8f"
      },
      "execution_count": 22,
      "outputs": [
        {
          "output_type": "stream",
          "name": "stdout",
          "text": [
            "[1, 2, 4, 5]\n"
          ]
        }
      ]
    },
    {
      "cell_type": "code",
      "source": [
        "# Q9. => Write a code to access the second element in the list ['a', 'b', 'c', 'd'].\n",
        "p = ['a', 'b', 'c', 'd']\n",
        "print(p[1])"
      ],
      "metadata": {
        "colab": {
          "base_uri": "https://localhost:8080/"
        },
        "id": "qe1d_USKcIhs",
        "outputId": "13b72563-2650-44fc-9770-c3ee5a4200d2"
      },
      "execution_count": 23,
      "outputs": [
        {
          "output_type": "stream",
          "name": "stdout",
          "text": [
            "b\n"
          ]
        }
      ]
    },
    {
      "cell_type": "code",
      "source": [
        "# Q10. => Write a code to reverse the list [10, 20, 30, 40, 50].\n",
        "l = [10, 20, 30, 40, 50]\n",
        "print(l[::-1])"
      ],
      "metadata": {
        "colab": {
          "base_uri": "https://localhost:8080/"
        },
        "id": "hm37ln9cceeK",
        "outputId": "ea086d7a-9505-4dc7-c2d9-239c095686f8"
      },
      "execution_count": 24,
      "outputs": [
        {
          "output_type": "stream",
          "name": "stdout",
          "text": [
            "[50, 40, 30, 20, 10]\n"
          ]
        }
      ]
    },
    {
      "cell_type": "code",
      "source": [
        "# Q11. => Write a code to create a tuple with the elements 10, 20, 30 and print it.\n",
        "t = (10,20,30)\n",
        "print(t)"
      ],
      "metadata": {
        "colab": {
          "base_uri": "https://localhost:8080/"
        },
        "id": "IqlSjxGmcyba",
        "outputId": "00f7652e-9357-48c6-cbe8-ed39753ce04a"
      },
      "execution_count": 25,
      "outputs": [
        {
          "output_type": "stream",
          "name": "stdout",
          "text": [
            "(10, 20, 30)\n"
          ]
        }
      ]
    },
    {
      "cell_type": "code",
      "source": [
        "# Q12. => Write a code to access the first element of the tuple ('apple', 'banana', 'cherry').\n",
        "t = ('apple', 'banana', 'cherry')\n",
        "print(t[0])"
      ],
      "metadata": {
        "colab": {
          "base_uri": "https://localhost:8080/"
        },
        "id": "ovmmmLhpdD-q",
        "outputId": "24377c10-2cfa-4424-92d4-96afde1559f9"
      },
      "execution_count": 26,
      "outputs": [
        {
          "output_type": "stream",
          "name": "stdout",
          "text": [
            "apple\n"
          ]
        }
      ]
    },
    {
      "cell_type": "code",
      "source": [
        "# Q13. => Write a code to count how many times the number 2 appears in the tuple (1, 2, 3, 2, 4, 2).\n",
        "t = (1, 2, 3, 2, 4, 2)\n",
        "print(t.count(2))"
      ],
      "metadata": {
        "colab": {
          "base_uri": "https://localhost:8080/"
        },
        "id": "3b3t1DWFe-wN",
        "outputId": "383a7686-472b-40af-88bb-1d9d6cf05417"
      },
      "execution_count": 27,
      "outputs": [
        {
          "output_type": "stream",
          "name": "stdout",
          "text": [
            "3\n"
          ]
        }
      ]
    },
    {
      "cell_type": "code",
      "source": [
        "# Q14. => Write a code to find the index of the element \"cat\" in the tuple ('dog', 'cat', 'rabbit').\n",
        "t = ('dog', 'cat', 'rabbit')\n",
        "print(t.index('cat'))"
      ],
      "metadata": {
        "colab": {
          "base_uri": "https://localhost:8080/"
        },
        "id": "eM_H9mxafbhW",
        "outputId": "0dbec727-ce30-4054-9384-a934f327bbb8"
      },
      "execution_count": 28,
      "outputs": [
        {
          "output_type": "stream",
          "name": "stdout",
          "text": [
            "1\n"
          ]
        }
      ]
    },
    {
      "cell_type": "code",
      "source": [
        "# Q15. =>  Write a code to check if the element \"banana\" is in the tuple ('apple', 'orange', 'banana').\n",
        "t = ('apple', 'orange', 'banana')\n",
        "print('banana' in t)"
      ],
      "metadata": {
        "colab": {
          "base_uri": "https://localhost:8080/"
        },
        "id": "Z6iu3Kh3fvlJ",
        "outputId": "be082035-f0c7-4ab8-c5cd-8860c02c506f"
      },
      "execution_count": 29,
      "outputs": [
        {
          "output_type": "stream",
          "name": "stdout",
          "text": [
            "True\n"
          ]
        }
      ]
    },
    {
      "cell_type": "code",
      "source": [
        "# Q16. => Write a code to create a set with the elements 1, 2, 3, 4, 5 and print it.\n",
        "s = {1,2,3,4,5}\n",
        "print(s)"
      ],
      "metadata": {
        "colab": {
          "base_uri": "https://localhost:8080/"
        },
        "id": "xuUsuyFPgJ_-",
        "outputId": "0c60e857-663b-43c9-d886-9634a5c30a51"
      },
      "execution_count": 30,
      "outputs": [
        {
          "output_type": "stream",
          "name": "stdout",
          "text": [
            "{1, 2, 3, 4, 5}\n"
          ]
        }
      ]
    },
    {
      "cell_type": "code",
      "source": [
        "# Q17. => Write a code to add the element 6 to the set {1, 2, 3, 4}.\n",
        "S = {1,2,3,4}\n",
        "S.add(6)\n",
        "print(S)"
      ],
      "metadata": {
        "colab": {
          "base_uri": "https://localhost:8080/"
        },
        "id": "6MZB-30OgeeG",
        "outputId": "98458577-7c32-4a33-e261-309e2f00f337"
      },
      "execution_count": 34,
      "outputs": [
        {
          "output_type": "stream",
          "name": "stdout",
          "text": [
            "{1, 2, 3, 4, 6}\n"
          ]
        }
      ]
    },
    {
      "cell_type": "code",
      "source": [
        "# Q18. => Write a code to create a tuple with the elements 10, 20, 30 and print it.\n",
        "t = (10,20,30)\n",
        "print(t)"
      ],
      "metadata": {
        "colab": {
          "base_uri": "https://localhost:8080/"
        },
        "id": "ygCXITI2g6Z0",
        "outputId": "49846e75-64e8-49b2-9d13-c23d3c091d6c"
      },
      "execution_count": 35,
      "outputs": [
        {
          "output_type": "stream",
          "name": "stdout",
          "text": [
            "(10, 20, 30)\n"
          ]
        }
      ]
    },
    {
      "cell_type": "code",
      "source": [
        "# Q19. => Write a code to access the first element of the tuple ('apple', 'banana', 'cherry').\n",
        "t = ('apple', 'banana', 'cherry')\n",
        "print(t[0])"
      ],
      "metadata": {
        "colab": {
          "base_uri": "https://localhost:8080/"
        },
        "id": "nqA-CTiqhdQZ",
        "outputId": "9053862f-445b-4ee7-a28e-1e97a044bfd6"
      },
      "execution_count": 36,
      "outputs": [
        {
          "output_type": "stream",
          "name": "stdout",
          "text": [
            "apple\n"
          ]
        }
      ]
    },
    {
      "cell_type": "code",
      "source": [
        "# Q20. => Write a code to count how many times the number 2 appears in the tuple (1, 2, 3, 2, 4, 2).\n",
        "t = (1, 2, 3, 2, 4, 2)\n",
        "print(t.count(2))"
      ],
      "metadata": {
        "colab": {
          "base_uri": "https://localhost:8080/"
        },
        "id": "ghyt-UxchdAJ",
        "outputId": "a4d7b867-8cd5-4954-af8a-9265fb2695c3"
      },
      "execution_count": 37,
      "outputs": [
        {
          "output_type": "stream",
          "name": "stdout",
          "text": [
            "3\n"
          ]
        }
      ]
    },
    {
      "cell_type": "code",
      "source": [
        "# Q21. => Write a code to find the index of the element \"cat\" in the tuple ('dog', 'cat', 'rabbit').\n",
        "t = ('dog', 'cat', 'rabbit')\n",
        "print(t.index('cat'))"
      ],
      "metadata": {
        "colab": {
          "base_uri": "https://localhost:8080/"
        },
        "id": "IX4ZIFt0hcxi",
        "outputId": "d11c9936-9054-4356-e618-5b0586ebb389"
      },
      "execution_count": 38,
      "outputs": [
        {
          "output_type": "stream",
          "name": "stdout",
          "text": [
            "1\n"
          ]
        }
      ]
    },
    {
      "cell_type": "code",
      "source": [
        "# Q22. =>  Write a code to check if the element \"banana\" is in the tuple ('apple', 'orange', 'banana').\n",
        "t = ('apple', 'orange', 'banana')\n",
        "print('banana' in t)"
      ],
      "metadata": {
        "colab": {
          "base_uri": "https://localhost:8080/"
        },
        "id": "Xy3boLL_hciZ",
        "outputId": "764c40f7-98c7-4bf1-cb6a-1ffa1280ae85"
      },
      "execution_count": 39,
      "outputs": [
        {
          "output_type": "stream",
          "name": "stdout",
          "text": [
            "True\n"
          ]
        }
      ]
    },
    {
      "cell_type": "code",
      "source": [
        "# Q23. => Write a code to create a set with the elements 1, 2, 3, 4, 5 and print it.\n",
        "s = {1,2,3,4,5}\n",
        "print(s)"
      ],
      "metadata": {
        "colab": {
          "base_uri": "https://localhost:8080/"
        },
        "id": "zsLxxy5xhcT6",
        "outputId": "c957c06e-aee2-4915-bff8-4e341cc6affe"
      },
      "execution_count": 40,
      "outputs": [
        {
          "output_type": "stream",
          "name": "stdout",
          "text": [
            "{1, 2, 3, 4, 5}\n"
          ]
        }
      ]
    },
    {
      "cell_type": "code",
      "source": [
        "# Q24. => Write a code to add the element 6 to the set {1, 2, 3, 4}.\n",
        "S = {1,2,3,4}\n",
        "S.add(6)\n",
        "print(S)"
      ],
      "metadata": {
        "colab": {
          "base_uri": "https://localhost:8080/"
        },
        "id": "egUv2YI-ha1k",
        "outputId": "1e3c254d-0039-47a8-c606-ac1cd80a0590"
      },
      "execution_count": 41,
      "outputs": [
        {
          "output_type": "stream",
          "name": "stdout",
          "text": [
            "{1, 2, 3, 4, 6}\n"
          ]
        }
      ]
    }
  ]
}